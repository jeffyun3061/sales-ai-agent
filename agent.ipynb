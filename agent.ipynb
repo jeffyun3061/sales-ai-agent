{
 "cells": [
  {
   "cell_type": "code",
   "execution_count": null,
   "id": "659db063",
   "metadata": {},
   "outputs": [],
   "source": [
    "import os\n",
    "from dotenv import load_dotenv\n",
    "from typing import Annotated, Dict, List, TypedDict, Any, Optional\n",
    "\n",
    "from langchain_core.documents import Document\n",
    "from langchain_core.runnables import RunnableConfig\n",
    "from langchain_core.messages import HumanMessage, AIMessage\n",
    "from langchain_core.output_parsers import StrOutputParser\n",
    "\n",
    "from langchain_openai import ChatOpenAI, OpenAIEmbeddings\n",
    "\n",
    "from langchain_community.vectorstores import FAISS\n",
    "from langchain_community.retrievers import BM25Retriever\n",
    "from langchain.retrievers import EnsembleRetriever\n",
    "from langchain_community.tools.tavily_search import TavilySearchResults\n",
    "\n",
    "from kiwipiepy import Kiwi\n",
    "\n",
    "from langgraph.graph import StateGraph, END\n",
    "from langgraph.checkpoint.memory import MemorySaver"
   ]
  },
  {
   "cell_type": "code",
   "execution_count": null,
   "id": "e0c8f476",
   "metadata": {},
   "outputs": [],
   "source": [
    "load_dotenv()\n",
    "openai_api_key = os.getenv(\"OPENAI_API_KEY\")\n",
    "tavily_api_key = os.getenv(\"TAVILY_API_KEY\")"
   ]
  },
  {
   "cell_type": "code",
   "execution_count": null,
   "id": "ef04c575",
   "metadata": {},
   "outputs": [],
   "source": [
    "kiwi = Kiwi()\n",
    "\n",
    "# kiwi 토크나이징 함수\n",
    "def kiwi_tokenize(text: str) -> List[str]:\n",
    "    \"\"\"\n",
    "    Tokenizes the input text using the Kiwi tokenizer.\n",
    "    \"\"\"\n",
    "    tokens = kiwi.tokenize(text)\n",
    "    return [token.form for token in tokens if token.tag != \"SPACE\"]\n",
    "\n",
    "# 상태\n",
    "class GraphState(TypedDict):\n",
    "    \"\"\"\n",
    "    Represents the state of the graph.\n",
    "    \"\"\"\n",
    "    query: str\n",
    "    document: Document\n",
    "    web_results: List[Document]\n",
    "    answer: Optional[str]\n",
    "    message: Optional[str]"
   ]
  },
  {
   "cell_type": "code",
   "execution_count": 4,
   "id": "64ccd96f",
   "metadata": {},
   "outputs": [],
   "source": [
    "from langchain_core.documents import Document\n",
    "\n",
    "def row_to_doc(row) -> Document:\n",
    "    content = f\"\"\"\n",
    "    회사명: {row['company']}\n",
    "    업종: {row['industry']}\n",
    "    주소: {row['address']}\n",
    "    홈페이지: {row['homepage']}\n",
    "    대표자: {row['key_executive']}\n",
    "    연락처: {row['phone_number']}\n",
    "    매출: {row['sales']}\n",
    "    \"\"\"\n",
    "    return Document(page_content=content.strip(), metadata={\"source\": \"company_data\"})\n"
   ]
  },
  {
   "cell_type": "code",
   "execution_count": 9,
   "id": "84305f8d",
   "metadata": {},
   "outputs": [],
   "source": [
    "import pandas as pd\n",
    "\n",
    "def load_documents_from_csv(path: str, chunksize: int = 100):\n",
    "    for chunk in pd.read_csv(path, chunksize=chunksize):\n",
    "        docs = []\n",
    "        for _, row in chunk.iterrows():\n",
    "            if pd.notna(row['company']):  # 필수값 체크\n",
    "                docs.append(row_to_doc(row))\n",
    "        yield docs"
   ]
  },
  {
   "cell_type": "code",
   "execution_count": 10,
   "id": "1b712c19",
   "metadata": {},
   "outputs": [
    {
     "name": "stdout",
     "output_type": "stream",
     "text": [
      "✅ 100개 문서 처리 완료\n",
      "✅ 200개 문서 처리 완료\n",
      "✅ 300개 문서 처리 완료\n",
      "✅ 400개 문서 처리 완료\n",
      "✅ 500개 문서 처리 완료\n",
      "✅ 600개 문서 처리 완료\n",
      "✅ 700개 문서 처리 완료\n",
      "✅ 800개 문서 처리 완료\n",
      "✅ 900개 문서 처리 완료\n",
      "✅ 1000개 문서 처리 완료\n"
     ]
    }
   ],
   "source": [
    "all_docs = []\n",
    "\n",
    "for i, doc_batch in enumerate(load_documents_from_csv(\"company_data.csv\", chunksize=100)):\n",
    "    all_docs.extend(doc_batch)\n",
    "    print(f\"✅ {len(all_docs)}개 문서 처리 완료\")\n",
    "\n",
    "    if len(all_docs) >= 1000:\n",
    "        break  # 일단 1000개까지만 테스트"
   ]
  },
  {
   "cell_type": "code",
   "execution_count": null,
   "id": "d03de174",
   "metadata": {},
   "outputs": [],
   "source": []
  }
 ],
 "metadata": {
  "kernelspec": {
   "display_name": "venv",
   "language": "python",
   "name": "python3"
  },
  "language_info": {
   "codemirror_mode": {
    "name": "ipython",
    "version": 3
   },
   "file_extension": ".py",
   "mimetype": "text/x-python",
   "name": "python",
   "nbconvert_exporter": "python",
   "pygments_lexer": "ipython3",
   "version": "3.12.4"
  }
 },
 "nbformat": 4,
 "nbformat_minor": 5
}
