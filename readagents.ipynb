{
 "cells": [
  {
   "cell_type": "code",
   "execution_count": 1,
   "id": "8515dc14",
   "metadata": {},
   "outputs": [],
   "source": [
    "from agents import Agent, WebSearchTool, Runner\n",
    "from agents.tool import UserLocation\n",
    "import os\n",
    "from dotenv import load_dotenv\n",
    "import nest_asyncio\n",
    "from langgraph.graph import StateGraph\n",
    "from typing import TypedDict"
   ]
  },
  {
   "cell_type": "code",
   "execution_count": 2,
   "id": "bcce98b9",
   "metadata": {},
   "outputs": [],
   "source": [
    "class LeadScoutState(TypedDict):\n",
    "    question: str\n",
    "    scout_result: str"
   ]
  },
  {
   "cell_type": "code",
   "execution_count": 3,
   "id": "f5a1e5cf",
   "metadata": {},
   "outputs": [],
   "source": [
    "graph = StateGraph(LeadScoutState) # LangGraph의 그래프 인스턴스 생성\n",
    "SECRET_ENV = os.getenv(\"OPENAI_API_KEY\")\n",
    "load_dotenv()\n",
    "nest_asyncio.apply()\n",
    "\n",
    "Current_Status = {} # 에이전트가 실행되면서 그 안에 데이터를 채워 넣고, 그 상태값을 기반으로 다음 노드를 결정하기 위한 딕셔너리"
   ]
  },
  {
   "cell_type": "code",
   "execution_count": 4,
   "id": "739f21f7",
   "metadata": {},
   "outputs": [],
   "source": [
    "def agent_node(state: dict) -> dict:\n",
    "\n",
    "    agent = Agent(\n",
    "        name = \" Assistant\",\n",
    "        instructions=(\n",
    "            \"You are a Lead Scout specialized in identifying potential leads and gathering initial data.\"\n",
    "            \"When searching for leads, explore company databases, websites, social media, and industry events.\"\n",
    "            \"Provide insights on company name, size, industry, recent activities, and contact information.\"\n",
    "            \"Ensure your findings are relevant, accurate, and well-organized.\"\n",
    "        ),\n",
    "        tools = [\n",
    "            WebSearchTool(\n",
    "                user_location=UserLocation(\n",
    "                    type=\"approximate\",\n",
    "                    city=\"Seoul\"\n",
    "                    )\n",
    "                )\n",
    "            ],\n",
    "        model=\"gpt-4o\"\n",
    "    )\n",
    "    question = \"최근에 주목할 만한 새로운 스타트업들의 목록을 제공해 주실 수 있나요?\" # 현재는 테스트 용 추후 LangGraph 완성 시 질문을 상태로 받아 처리하는 방식 등으로 변경 필요\n",
    "    result = Runner.run_sync(agent, question)\n",
    "    print(result.final_output)\n",
    "    return {\"scout_result\" : result.final_output }"
   ]
  },
  {
   "cell_type": "code",
   "execution_count": 5,
   "id": "53ab666b",
   "metadata": {},
   "outputs": [
    {
     "name": "stdout",
     "output_type": "stream",
     "text": [
      "최근 주목할 만한 한국의 스타트업들을 소개해 드리겠습니다. 이들은 다양한 분야에서 혁신적인 서비스를 제공하며 빠르게 성장하고 있습니다.\n",
      "\n",
      "**1. 야놀자 (Yanolja)**\n",
      "\n",
      "- **설립자**: 이수진\n",
      "- **총 투자 유치 금액**: 약 1조 9,500억 원\n",
      "- **주요 투자자**: 소프트뱅크 비전펀드, GIC, 부킹닷컴 등\n",
      "- **2023년 매출**: 약 7,800억 원\n",
      "- **특징**: 숙박 예약 플랫폼으로 시작하여 글로벌 여행 플랫폼으로 성장 중이며, 나스닥 상장을 준비하고 있습니다.\n",
      "\n",
      "**2. 비바리퍼블리카 (Viva Republica, 토스)**\n",
      "\n",
      "- **설립자**: 이승건\n",
      "- **총 투자 유치 금액**: 약 1조 3,400억 원\n",
      "- **주요 투자자**: 알케온 캐피탈, 알토스 벤처스 등\n",
      "- **2023년 매출**: 약 1조 3,400억 원\n",
      "- **특징**: 간편 송금 서비스 '토스'를 운영하며, 금융 슈퍼앱으로 발전하고 있습니다. 국내 상장을 준비 중입니다.\n",
      "\n",
      "**3. 컬리 (Kurly)**\n",
      "\n",
      "- **설립자**: 김슬아\n",
      "- **총 투자 유치 금액**: 약 7,610억 원\n",
      "- **주요 투자자**: 앵커 에쿼티 파트너스, CJ 로지스틱스 등\n",
      "- **2023년 매출**: 약 2조 원\n",
      "- **특징**: 신선 식품 배송 서비스로 시작하여 종합 온라인 마켓으로 확장하였으며, 2023년 첫 흑자를 달성하고 상장을 준비 중입니다.\n",
      "\n",
      "**4. 두나무 (Dunamu)**\n",
      "\n",
      "- **설립자**: 김형, 송치형\n",
      "- **총 투자 유치 금액**: 약 5,220억 원\n",
      "- **주요 투자자**: 앵커 에쿼티 파트너스, 하나금융그룹 등\n",
      "- **2023년 매출**: 약 1조 원\n",
      "- **특징**: 암호화폐 거래소 '업비트'를 운영하며, 나스닥 상장을 목표로 하고 있습니다.\n",
      "\n",
      "**5. 무신사 (Musinsa)**\n",
      "\n",
      "- **설립자**: 조만호\n",
      "- **총 투자 유치 금액**: 약 3,300억 원\n",
      "- **주요 투자자**: IMM 인베스트먼트, KKR 등\n",
      "- **2023년 매출**: 약 8,900억 원\n",
      "- **특징**: 패션 마켓플레이스로 시작하여 국내 최대 규모로 성장하였으며, 2025년 상장을 준비 중입니다.\n",
      "\n",
      "**6. 당근마켓 (Danggeun Market)**\n",
      "\n",
      "- **공동 설립자**: 김재현, 김용현\n",
      "- **총 투자 유치 금액**: 약 2,050억 원\n",
      "- **주요 투자자**: 알토스 벤처스, 아스펙스 매니지먼트 등\n",
      "- **2023년 매출**: 약 1,200억 원\n",
      "- **특징**: 하이퍼로컬 중고 거래 플랫폼으로, 미국과 캐나다 등 해외 시장에서도 사용자 수가 증가하고 있습니다.\n",
      "\n",
      "**7. 버킷플레이스 (Bucketplace, O!House)**\n",
      "\n",
      "- **설립자**: 이승재\n",
      "- **총 투자 유치 금액**: 약 2,610억 원\n",
      "- **주요 투자자**: BRV 캐피탈 매니지먼트, KB 인베스트먼트 등\n",
      "- **2023년 매출**: 약 2,300억 원\n",
      "- **특징**: 홈 인테리어 플랫폼 '오늘의집'을 운영하며, IPO를 준비 중입니다.\n",
      "\n",
      "**8. 몰로코 (Moloco)**\n",
      "\n",
      "- **설립자**: 안익진, 박세혁\n",
      "- **총 투자 유치 금액**: 약 2,000억 원\n",
      "- **주요 투자자**: DAOL 벤처스, 드레이퍼 아테나 등\n",
      "- **2023년 매출**: 약 3,900억 원\n",
      "- **특징**: 기계 학습을 활용한 모바일 광고 캠페인 지원 서비스를 제공하며, 나스닥 상장을 목표로 하고 있습니다.\n",
      "\n",
      "**9. 직방 (ZigBang)**\n",
      "\n",
      "- **설립자**: 안성우\n",
      "- **총 투자 유치 금액**: 약 2,480억 원\n",
      "- **주요 투자자**: 알토스 벤처스, 블루런 벤처스 등\n",
      "- **2023년 매출**: 약 1,200억 원\n",
      "- **특징**: 부동산 플랫폼으로 시작하여 스마트 홈 산업에 진출하였으며, 상장을 목표로 하고 있습니다.\n",
      "\n",
      "**10. 한국신용데이터 \n"
     ]
    }
   ],
   "source": [
    "graph.add_node(\"Assistant\", agent_node)\n",
    "\n",
    "graph.set_entry_point(\"Assistant\")\n",
    "\n",
    "app = graph.compile()\n",
    "\n",
    "result = app.invoke(Current_Status)"
   ]
  }
 ],
 "metadata": {
  "kernelspec": {
   "display_name": "venv",
   "language": "python",
   "name": "python3"
  },
  "language_info": {
   "codemirror_mode": {
    "name": "ipython",
    "version": 3
   },
   "file_extension": ".py",
   "mimetype": "text/x-python",
   "name": "python",
   "nbconvert_exporter": "python",
   "pygments_lexer": "ipython3",
   "version": "3.12.6"
  }
 },
 "nbformat": 4,
 "nbformat_minor": 5
}
